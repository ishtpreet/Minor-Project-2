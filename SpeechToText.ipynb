{
 "cells": [
  {
   "cell_type": "code",
   "execution_count": 4,
   "metadata": {},
   "outputs": [
    {
     "name": "stdout",
     "output_type": "stream",
     "text": [
      "Speak!\n",
      " Hello, hello, hello.\n"
     ]
    }
   ],
   "source": [
    "import pyaudio\n",
    "import numpy as np\n",
    "import torch\n",
    "import whisper\n",
    "\n",
    "model = whisper.load_model(\"base.en\")\n",
    "p = pyaudio.PyAudio()\n",
    "\n",
    "FORMAT = pyaudio.paInt16\n",
    "CHANNELS = 1\n",
    "RATE = 16000\n",
    "CHUNK = int(RATE/10)  # 100 ms\n",
    "\n",
    "stream = p.open(format=FORMAT,\n",
    "                channels=CHANNELS,\n",
    "                rate=RATE,\n",
    "                input=True,\n",
    "                frames_per_buffer=CHUNK)\n",
    "\n",
    "print(\"SPEAK\")\n",
    "\n",
    "audio = np.array([], dtype=np.int16)\n",
    "\n",
    "for i in range(int(RATE/CHUNK * 3)):\n",
    "    data = stream.read(CHUNK)\n",
    "    audio = np.append(audio, np.frombuffer(data, dtype=np.int16))\n",
    "\n",
    "torch_audio = torch.from_numpy(audio.flatten().astype(np.float32) / 32768.0)\n",
    "\n",
    "result = model.transcribe(torch_audio)\n",
    "predicted_text = result[\"text\"]\n",
    "print(predicted_text)\n",
    "stream.stop_stream()\n",
    "stream.close()\n",
    "p.terminate()\n"
   ]
  },
  {
   "cell_type": "code",
   "execution_count": null,
   "metadata": {},
   "outputs": [],
   "source": []
  }
 ],
 "metadata": {
  "kernelspec": {
   "display_name": "base",
   "language": "python",
   "name": "python3"
  },
  "language_info": {
   "codemirror_mode": {
    "name": "ipython",
    "version": 3
   },
   "file_extension": ".py",
   "mimetype": "text/x-python",
   "name": "python",
   "nbconvert_exporter": "python",
   "pygments_lexer": "ipython3",
   "version": "3.9.7"
  },
  "orig_nbformat": 4
 },
 "nbformat": 4,
 "nbformat_minor": 2
}
